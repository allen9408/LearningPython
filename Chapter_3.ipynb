{
 "cells": [
  {
   "cell_type": "code",
   "execution_count": 9,
   "metadata": {},
   "outputs": [
    {
     "name": "stdout",
     "output_type": "stream",
     "text": [
      "a =  [0, 1, 2, 3, 4, 5, 6, 7, 8, 9]\n",
      "---- append right ----\n",
      "q =  deque([5, 6, 7, 8, 9], maxlen=5)\n",
      "---- append left ----\n",
      "q =  deque([10, 5, 6, 7, 8], maxlen=5)\n",
      "---- pop right ----\n",
      "q =  deque([10, 5, 6, 7], maxlen=5)\n",
      "---- pop right ----\n",
      "q =  deque([5, 6, 7], maxlen=5)\n"
     ]
    }
   ],
   "source": [
    "# deque usage\n",
    "# keep last N values\n",
    "from collections import deque\n",
    "a = [i for i in range(10)]\n",
    "print('a = ', a)\n",
    "q = deque(maxlen = 5)\n",
    "print('---- append right ----')\n",
    "for i in a:\n",
    "    q.append(i)\n",
    "print('q = ', q)\n",
    "print('---- append left ----')\n",
    "q.appendleft(10)\n",
    "print('q = ', q)\n",
    "print('---- pop right ----')\n",
    "q.pop()\n",
    "print('q = ', q)\n",
    "print('---- pop right ----')\n",
    "q.popleft()\n",
    "print('q = ', q)"
   ]
  },
  {
   "cell_type": "code",
   "execution_count": 12,
   "metadata": {},
   "outputs": [
    {
     "name": "stdout",
     "output_type": "stream",
     "text": [
      "[0, 1, 2]\n",
      "[9, 8, 7]\n",
      "[{'name': 'YHOO', 'shares': 45, 'price': 16.35}, {'name': 'FB', 'shares': 200, 'price': 21.09}, {'name': 'HPQ', 'shares': 35, 'price': 31.75}]\n",
      "[{'name': 'AAPL', 'shares': 50, 'price': 543.22}, {'name': 'ACME', 'shares': 75, 'price': 115.65}, {'name': 'IBM', 'shares': 100, 'price': 91.1}]\n"
     ]
    }
   ],
   "source": [
    "# heapq usage\n",
    "# find largest/smallest N values\n",
    "import heapq\n",
    "print(heapq.nsmallest(3,a))\n",
    "print(heapq.nlargest(3,a))\n",
    "\n",
    "portfolio = [\n",
    "   {'name': 'IBM', 'shares': 100, 'price': 91.1},\n",
    "   {'name': 'AAPL', 'shares': 50, 'price': 543.22},\n",
    "   {'name': 'FB', 'shares': 200, 'price': 21.09},\n",
    "   {'name': 'HPQ', 'shares': 35, 'price': 31.75},\n",
    "   {'name': 'YHOO', 'shares': 45, 'price': 16.35},\n",
    "   {'name': 'ACME', 'shares': 75, 'price': 115.65}\n",
    "]\n",
    "\n",
    "cheap = heapq.nsmallest(3, portfolio, lambda x:x['price'])\n",
    "expensive = heapq.nlargest(3, portfolio, lambda x:x['price'])\n",
    "print(cheap)\n",
    "print(expensive)"
   ]
  },
  {
   "cell_type": "code",
   "execution_count": 2,
   "metadata": {},
   "outputs": [
    {
     "name": "stdout",
     "output_type": "stream",
     "text": [
      "defaultdict(<class 'list'>, {'a': [1, 2], 'b': [4]})\n"
     ]
    }
   ],
   "source": [
    "# Multi dict\n",
    "from collections import defaultdict\n",
    "\n",
    "d = defaultdict(list)\n",
    "d['a'].append(1)\n",
    "d['a'].append(2)\n",
    "d['b'].append(4)\n",
    "print(d)"
   ]
  },
  {
   "cell_type": "code",
   "execution_count": 3,
   "metadata": {},
   "outputs": [
    {
     "name": "stdout",
     "output_type": "stream",
     "text": [
      "OrderedDict([('foo', 1), ('bar', 2), ('spam', 3), ('grok', 4)])\n",
      "foo 1\n",
      "bar 2\n",
      "spam 3\n",
      "grok 4\n"
     ]
    }
   ],
   "source": [
    "# Ordered dict\n",
    "from collections import OrderedDict\n",
    "d = OrderedDict()\n",
    "d['foo'] = 1 \n",
    "d['bar'] = 2 \n",
    "d['spam'] = 3 \n",
    "d['grok'] = 4 \n",
    "print(d)\n",
    "for key in d:\n",
    "    print(key, d[key])"
   ]
  },
  {
   "cell_type": "code",
   "execution_count": 5,
   "metadata": {},
   "outputs": [
    {
     "name": "stdout",
     "output_type": "stream",
     "text": [
      "min:  (10.75, 'FB')\n",
      "max:  (612.78, 'AAPL')\n"
     ]
    }
   ],
   "source": [
    "# find min/max in dictionary\n",
    "prices = {'ACME': 45.23, 'AAPL': 612.78, 'IBM': 205.55, 'HPQ': 37.20, 'FB': 10.75}\n",
    "min_price = min(zip(prices.values(), prices.keys()))\n",
    "max_price = max(zip(prices.values(), prices.keys()))\n",
    "print('min: ', min_price)\n",
    "print('max: ', max_price)"
   ]
  },
  {
   "cell_type": "code",
   "execution_count": 6,
   "metadata": {},
   "outputs": [
    {
     "name": "stdout",
     "output_type": "stream",
     "text": [
      "[(10.75, 'FB'), (37.2, 'HPQ'), (45.23, 'ACME'), (205.55, 'IBM'), (612.78, 'AAPL')]\n"
     ]
    }
   ],
   "source": [
    "# sort dictionary\n",
    "prices_sorted = sorted(zip(prices.values(), prices.keys()))\n",
    "print(prices_sorted)"
   ]
  },
  {
   "cell_type": "code",
   "execution_count": 14,
   "metadata": {},
   "outputs": [
    {
     "name": "stdout",
     "output_type": "stream",
     "text": [
      "zip:\n",
      " [([1, 2, 3], [2, 2, 2]), ([4, 5, 6], [3, 3, 3]), ([7, 8, 9], [4, 4, 4])]\n",
      "unzip:\n",
      " ([1, 2, 3], [2, 2, 2]) ([4, 5, 6], [3, 3, 3]) ([7, 8, 9], [4, 4, 4])\n",
      "zip after unzip:\n",
      " [([1, 2, 3], [4, 5, 6], [7, 8, 9]), ([2, 2, 2], [3, 3, 3], [4, 4, 4])]\n"
     ]
    }
   ],
   "source": [
    "# how to use zip\n",
    "m = [[1, 2, 3],  [4, 5, 6],  [7, 8, 9]]\n",
    "n = [[2, 2, 2],  [3, 3, 3],  [4, 4, 4]]\n",
    "o = zip(m,n)\n",
    "print('zip:\\n',list(o))\n",
    "# unzip\n",
    "print('unzip:\\n', *zip(m,n))\n",
    "print('zip after unzip:\\n', list(zip(*zip(m,n))))"
   ]
  },
  {
   "cell_type": "code",
   "execution_count": 19,
   "metadata": {},
   "outputs": [
    {
     "name": "stdout",
     "output_type": "stream",
     "text": [
      "Find keys in commom:\n",
      " {'y'}\n",
      "Find keys in a not in b:\n",
      " {' x', 'z'}\n",
      "Find pairs in common:\n",
      " {('y', 2)}\n",
      "dict_items([(' x', 1), ('y', 2), ('z', 3)])\n"
     ]
    }
   ],
   "source": [
    "# find common in two dictionary\n",
    "a={\n",
    "    'x' : 1, 'y' : 2, 'z' : 3\n",
    "}\n",
    "b={\n",
    "    'w' : 10, 'x' : 11, 'y' : 2\n",
    "}\n",
    "\n",
    "print('Find keys in commom:\\n', a.keys()&b.keys())\n",
    "print('Find keys in a not in b:\\n', a.keys()-b.keys())\n",
    "print('Find pairs in common:\\n', a.items() & b.items())"
   ]
  },
  {
   "cell_type": "code",
   "execution_count": 24,
   "metadata": {},
   "outputs": [
    {
     "name": "stdout",
     "output_type": "stream",
     "text": [
      "[('eyes', 8), ('the', 5), ('look', 4)]\n",
      "[('eyes', 9), ('the', 5), ('look', 4)]\n",
      "Counter({'eyes': 8, 'the': 5, 'look': 4, 'into': 3, 'my': 3, 'around': 2, 'not': 1, \"don't\": 1, \"you're\": 1, 'under': 1})\n",
      "Counter({'why': 1, 'are': 1, 'you': 1, 'not': 1, 'looking': 1, 'in': 1, 'my': 1, 'eyes': 1})\n",
      "Counter({'eyes': 9, 'the': 5, 'look': 4, 'my': 4, 'into': 3, 'not': 2, 'around': 2, \"don't\": 1, \"you're\": 1, 'under': 1, 'why': 1, 'are': 1, 'you': 1, 'looking': 1, 'in': 1})\n"
     ]
    }
   ],
   "source": [
    "# find most common element in list\n",
    "words = [\n",
    "    'look', 'into', 'my', 'eyes', 'look', 'into', 'my', 'eyes', 'the', 'eyes', 'the', 'eyes', 'the', 'eyes', 'not', 'around', 'the', 'eyes', \"don't\", 'look', 'around', 'the', 'eyes', 'look', 'into', 'my', 'eyes', \"you're\", 'under'\n",
    "] \n",
    "from collections import Counter\n",
    "word_counts = Counter(words)\n",
    "top_three = word_counts.most_common(3)\n",
    "print(top_three)\n",
    "\n",
    "# update counter\n",
    "morewords = ['why','are','you','not','looking','in','my','eyes'] \n",
    "word_counts.update(morewords)\n",
    "top_three = word_counts.most_common(3)\n",
    "print(top_three)\n",
    "\n",
    "# add two counters\n",
    "a = Counter(words)\n",
    "b = Counter(morewords)\n",
    "print(a)\n",
    "print(b)\n",
    "print(a+b)"
   ]
  },
  {
   "cell_type": "code",
   "execution_count": 1,
   "metadata": {},
   "outputs": [
    {
     "name": "stdout",
     "output_type": "stream",
     "text": [
      "['1', '2', '-3', '4', '5']\n"
     ]
    }
   ],
   "source": [
    "# filter a list\n",
    "values = ['1', '2', '-3', '-', '4', 'N/A', '5'] \n",
    "def is_int(val):\n",
    "    try:\n",
    "        x = int(val)\n",
    "        return True\n",
    "    except ValueError:\n",
    "        return False\n",
    "    \n",
    "vals = list(filter(is_int, values))\n",
    "print(vals)"
   ]
  },
  {
   "cell_type": "code",
   "execution_count": null,
   "metadata": {
    "collapsed": true
   },
   "outputs": [],
   "source": []
  }
 ],
 "metadata": {
  "kernelspec": {
   "display_name": "Python 3",
   "language": "python",
   "name": "python3"
  },
  "language_info": {
   "codemirror_mode": {
    "name": "ipython",
    "version": 3
   },
   "file_extension": ".py",
   "mimetype": "text/x-python",
   "name": "python",
   "nbconvert_exporter": "python",
   "pygments_lexer": "ipython3",
   "version": "3.6.1"
  }
 },
 "nbformat": 4,
 "nbformat_minor": 2
}
